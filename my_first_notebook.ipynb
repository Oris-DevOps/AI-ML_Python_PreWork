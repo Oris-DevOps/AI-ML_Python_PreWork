{
 "cells": [
  {
   "cell_type": "markdown",
   "metadata": {},
   "source": [
    "# This this a test for Markdown and LaTEX\n",
    "  $$\\int_k^n f(s) dx$$"
   ]
  },
  {
   "cell_type": "markdown",
   "metadata": {},
   "source": [
    "$\\sum_{i=0}^{n=z} f(x)$"
   ]
  },
  {
   "cell_type": "code",
   "execution_count": 19,
   "metadata": {},
   "outputs": [
    {
     "data": {
      "text/plain": [
       "4"
      ]
     },
     "execution_count": 19,
     "metadata": {},
     "output_type": "execute_result"
    }
   ],
   "source": [
    "2+2"
   ]
  },
  {
   "cell_type": "code",
   "execution_count": 26,
   "metadata": {},
   "outputs": [
    {
     "name": "stdout",
     "output_type": "stream",
     "text": [
      "5 x 5 = 25\n",
      "Your entered X is = 45\n",
      "x type is <class 'int'>\n"
     ]
    }
   ],
   "source": [
    "print('5 x 5 =',5*5)\n",
    "X=45 #input('Enter the number you want')\n",
    "print('Your entered X is =',X) #assign variable X to take the input\n",
    "print('x type is',type(X))"
   ]
  },
  {
   "cell_type": "markdown",
   "metadata": {},
   "source": [
    "# Practicing Variabl Collections\n",
    "- List\n",
    "- Tuple\n",
    "- Set\n",
    "- Dictionary"
   ]
  },
  {
   "cell_type": "code",
   "execution_count": 38,
   "metadata": {},
   "outputs": [
    {
     "name": "stdout",
     "output_type": "stream",
     "text": [
      "['Josh', 2, 3, 4, 'python', 2.71]\n",
      "Josh\n",
      "4\n",
      "2.71\n",
      "python\n",
      "6\n"
     ]
    }
   ],
   "source": [
    "# List Practice\n",
    "simple_list = ['Josh',2,3,4,'python',2.71]\n",
    "print(simple_list)\n",
    "print(simple_list[0])\n",
    "print(simple_list[3])\n",
    "print(simple_list[-1]) # prints the nth item in the list\n",
    "print(simple_list[-2]) # prints nth+1 item from the end of the list\n",
    "print(len(simple_list)) # prints the length, total number of items in the list"
   ]
  },
  {
   "cell_type": "code",
   "execution_count": null,
   "metadata": {},
   "outputs": [],
   "source": [
    "# Tuple"
   ]
  }
 ],
 "metadata": {
  "kernelspec": {
   "display_name": "Python 3",
   "language": "python",
   "name": "python3"
  },
  "language_info": {
   "codemirror_mode": {
    "name": "ipython",
    "version": 3
   },
   "file_extension": ".py",
   "mimetype": "text/x-python",
   "name": "python",
   "nbconvert_exporter": "python",
   "pygments_lexer": "ipython3",
   "version": "3.8.5"
  }
 },
 "nbformat": 4,
 "nbformat_minor": 4
}
