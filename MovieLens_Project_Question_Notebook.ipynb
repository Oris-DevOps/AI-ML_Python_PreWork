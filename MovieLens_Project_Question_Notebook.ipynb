{
  "nbformat": 4,
  "nbformat_minor": 0,
  "metadata": {
    "kernelspec": {
      "display_name": "Python 3",
      "language": "python",
      "name": "python3"
    },
    "language_info": {
      "codemirror_mode": {
        "name": "ipython",
        "version": 3
      },
      "file_extension": ".py",
      "mimetype": "text/x-python",
      "name": "python",
      "nbconvert_exporter": "python",
      "pygments_lexer": "ipython3",
      "version": "3.8.5"
    },
    "colab": {
      "name": "MovieLens Project Question Notebook.ipynb",
      "provenance": [],
      "collapsed_sections": [],
      "toc_visible": true,
      "include_colab_link": true
    },
    "accelerator": "GPU"
  },
  "cells": [
    {
      "cell_type": "markdown",
      "metadata": {
        "id": "view-in-github",
        "colab_type": "text"
      },
      "source": [
        "<a href=\"https://colab.research.google.com/github/Oris-DevOps/AI-ML_Python_PreWork/blob/main/MovieLens_Project_Question_Notebook.ipynb\" target=\"_parent\"><img src=\"https://colab.research.google.com/assets/colab-badge.svg\" alt=\"Open In Colab\"/></a>"
      ]
    },
    {
      "cell_type": "markdown",
      "metadata": {
        "id": "NMSNzcKkphKb"
      },
      "source": [
        "### `Project - MovieLens Data Analysis`\n",
        "\n",
        "The GroupLens Research Project is a research group in the Department of Computer Science and Engineering at the University of Minnesota. The data is widely used for collaborative filtering and other filtering solutions. However, we will be using this data to act as a means to demonstrate our skill in using Python to “play” with data.\n",
        "\n",
        "### `Objective:`\n",
        "- To implement the techniques learnt as a part of the course.\n",
        "\n",
        "### `Datasets Information:`\n",
        "\n",
        "*rating.csv:* It contains information on ratings given by the users to a particular movie.\n",
        "- user id: id assigned to every user\n",
        "- movie id: id assigned to every movie\n",
        "- rating: rating given by the user\n",
        "- timestamp: Time recorded when the user gave a rating\n",
        "\n",
        "*movie.csv:* File contains information related to the movies and their genre.\n",
        "- movie id: id assigned to every movie\n",
        "- movie title: Title of the movie\n",
        "- release date: Date of release of the movie\n",
        "- Action: Genre containing binary values (1 - for action 0 - not action)\n",
        "- Adventure: Genre containing binary values (1 - for adventure 0 - not adventure)\n",
        "- Animation: Genre containing binary values (1 - for animation 0 - not animation)\n",
        "- Children’s: Genre containing binary values (1 - for children's 0 - not children's)\n",
        "- Comedy: Genre containing binary values (1 - for comedy 0 - not comedy)\n",
        "- Crime: Genre containing binary values (1 - for crime 0 - not crime)\n",
        "- Documentary: Genre containing binary values (1 - for documentary 0 - not documentary)\n",
        "- Drama: Genre containing binary values (1 - for drama 0 - not drama)\n",
        "- Fantasy: Genre containing binary values (1 - for fantasy 0 - not fantasy)\n",
        "- Film-Noir: Genre containing binary values (1 - for film-noir 0 - not film-noir)\n",
        "- Horror: Genre containing binary values (1 - for horror 0 - not horror)\n",
        "- Musical: Genre containing binary values (1 - for musical 0 - not musical)\n",
        "- Mystery: Genre containing binary values (1 - for mystery 0 - not mystery)\n",
        "- Romance: Genre containing binary values (1 - for romance 0 - not romance)\n",
        "- Sci-Fi: Genre containing binary values (1 - for sci-fi 0 - not sci-fi)\n",
        "- Thriller: Genre containing binary values (1 - for thriller 0 - not thriller)\n",
        "- War: Genre containing binary values (1 - for war 0 - not war)\n",
        "- Western: Genre containing binary values (1 - for western - not western)\n",
        "\n",
        "\n",
        "*user.csv:* It contains information of the users who have rated the movies.\n",
        "- user id: id assigned to every user\n",
        "- age: Age of the user\n",
        "- gender: Gender of the user\n",
        "- occupation: Occupation of the user\n",
        "- zip code: Zip code of the use\n",
        "\n",
        "**`Please provide your insights wherever necessary.`**\n",
        "\n",
        "### `Learning Outcomes:`\n",
        "- Exploratory Data Analysis\n",
        "\n",
        "- Visualization using Python\n",
        "\n",
        "- Pandas – groupby, merging \n",
        "\n",
        "\n",
        "### `Domain` \n",
        "- Internet and Entertainment\n",
        "\n",
        "**Note that the project will need you to apply the concepts of groupby and merging extensively.**"
      ]
    },
    {
      "cell_type": "markdown",
      "metadata": {
        "id": "93w7W1ftphKi"
      },
      "source": [
        "### 1. Import the necessary packages - 2.5 marks"
      ]
    },
    {
      "cell_type": "code",
      "metadata": {
        "id": "h3WH1eriphKi"
      },
      "source": [
        "#your code here\n"
      ],
      "execution_count": null,
      "outputs": []
    },
    {
      "cell_type": "code",
      "metadata": {
        "id": "owehFVy7etop"
      },
      "source": [
        "#import libraries/packages needed\n",
        "import numpy as np\n",
        "import pandas as pd\n",
        "import seaborn as sns\n",
        "import matplotlib.pyplot as plt\n",
        "%matplotlib inline\n",
        "sns.set(color_codes=True) #add nice colorful background to the plots/graphs\n",
        "import os # enable working with file path/directory\n",
        "\n"
      ],
      "execution_count": 12,
      "outputs": []
    },
    {
      "cell_type": "markdown",
      "metadata": {
        "id": "uwR99olFphKj"
      },
      "source": [
        "### 2. Read the 3 datasets into dataframes - 2.5 marks"
      ]
    },
    {
      "cell_type": "code",
      "metadata": {
        "scrolled": true,
        "id": "TSe8Jl6ephKj"
      },
      "source": [
        "#your code here\n",
        "pathM =\"/content/drive/MyDrive/Colab Notebooks/movie.csv\"\n",
        "pathR=\"/content/drive/MyDrive/Colab Notebooks/rating.csv\"\n",
        "pathU=\"/content/drive/MyDrive/Colab Notebooks/user.csv\"\n",
        "ratingDf = pd.read_csv(pathR)   #read/load rating dataset into the ratingdDf dataframe\n",
        "movieDf = pd.read_csv(pathM)    #read/load movie dataset into the moviedDf dataframe\n",
        "userDf= pd.read_csv(pathU)      #read/load user dataset into the userdDf dataframe\n",
        "# movieData= pd.read_csv('movie.csv')\n",
        "# from google.colab import drive\n",
        "# drive.mount('/content/drive')\n",
        "#movieData.head()"
      ],
      "execution_count": 15,
      "outputs": []
    },
    {
      "cell_type": "code",
      "metadata": {
        "id": "0y-oW9d5q3SA"
      },
      "source": [
        ""
      ],
      "execution_count": null,
      "outputs": []
    },
    {
      "cell_type": "markdown",
      "metadata": {
        "id": "sef4mVcEphKk"
      },
      "source": [
        "### 3. Apply info, shape, describe, and find the number of missing values in the data. Present at least 3 observations from these operations - 2.5 marks\n",
        " - Note that you will need to do it for all the three datasets seperately"
      ]
    },
    {
      "cell_type": "code",
      "metadata": {
        "id": "XYxUMP9ztlmb"
      },
      "source": [
        ""
      ],
      "execution_count": null,
      "outputs": []
    },
    {
      "cell_type": "markdown",
      "metadata": {
        "id": "mN1glFFKtmdi"
      },
      "source": [
        "**Initial Review of Rating Dataset**"
      ]
    },
    {
      "cell_type": "code",
      "metadata": {
        "colab": {
          "base_uri": "https://localhost:8080/"
        },
        "id": "-rjpDyvytxF3",
        "outputId": "b2574547-bcf5-4bad-c029-3cf835090e87"
      },
      "source": [
        "# summary information about ratingDf\n",
        "ratingDf.info()"
      ],
      "execution_count": 16,
      "outputs": [
        {
          "output_type": "stream",
          "text": [
            "<class 'pandas.core.frame.DataFrame'>\n",
            "RangeIndex: 100000 entries, 0 to 99999\n",
            "Data columns (total 4 columns):\n",
            " #   Column     Non-Null Count   Dtype\n",
            "---  ------     --------------   -----\n",
            " 0   user id    100000 non-null  int64\n",
            " 1   movie id   100000 non-null  int64\n",
            " 2   rating     100000 non-null  int64\n",
            " 3   timestamp  100000 non-null  int64\n",
            "dtypes: int64(4)\n",
            "memory usage: 3.1 MB\n"
          ],
          "name": "stdout"
        }
      ]
    },
    {
      "cell_type": "code",
      "metadata": {
        "colab": {
          "base_uri": "https://localhost:8080/"
        },
        "id": "Vwyxwaavt928",
        "outputId": "be8919df-af35-4b8a-b385-4b3c26d8fc50"
      },
      "source": [
        "# shape of ratingDf\n",
        "ratingDf.shape"
      ],
      "execution_count": 19,
      "outputs": [
        {
          "output_type": "execute_result",
          "data": {
            "text/plain": [
              "(100000, 4)"
            ]
          },
          "metadata": {
            "tags": []
          },
          "execution_count": 19
        }
      ]
    },
    {
      "cell_type": "code",
      "metadata": {
        "colab": {
          "base_uri": "https://localhost:8080/",
          "height": 297
        },
        "id": "jdskDsiAuHr3",
        "outputId": "916c7d6e-f9f4-402c-9806-aad422b7bee3"
      },
      "source": [
        "# describe function to analyze 5 point summary of ratingDf\n",
        "ratingDf.describe()"
      ],
      "execution_count": 22,
      "outputs": [
        {
          "output_type": "execute_result",
          "data": {
            "text/html": [
              "<div>\n",
              "<style scoped>\n",
              "    .dataframe tbody tr th:only-of-type {\n",
              "        vertical-align: middle;\n",
              "    }\n",
              "\n",
              "    .dataframe tbody tr th {\n",
              "        vertical-align: top;\n",
              "    }\n",
              "\n",
              "    .dataframe thead th {\n",
              "        text-align: right;\n",
              "    }\n",
              "</style>\n",
              "<table border=\"1\" class=\"dataframe\">\n",
              "  <thead>\n",
              "    <tr style=\"text-align: right;\">\n",
              "      <th></th>\n",
              "      <th>user id</th>\n",
              "      <th>movie id</th>\n",
              "      <th>rating</th>\n",
              "      <th>timestamp</th>\n",
              "    </tr>\n",
              "  </thead>\n",
              "  <tbody>\n",
              "    <tr>\n",
              "      <th>count</th>\n",
              "      <td>100000.00000</td>\n",
              "      <td>100000.000000</td>\n",
              "      <td>100000.000000</td>\n",
              "      <td>1.000000e+05</td>\n",
              "    </tr>\n",
              "    <tr>\n",
              "      <th>mean</th>\n",
              "      <td>462.48475</td>\n",
              "      <td>425.530130</td>\n",
              "      <td>3.529860</td>\n",
              "      <td>8.835289e+08</td>\n",
              "    </tr>\n",
              "    <tr>\n",
              "      <th>std</th>\n",
              "      <td>266.61442</td>\n",
              "      <td>330.798356</td>\n",
              "      <td>1.125674</td>\n",
              "      <td>5.343856e+06</td>\n",
              "    </tr>\n",
              "    <tr>\n",
              "      <th>min</th>\n",
              "      <td>1.00000</td>\n",
              "      <td>1.000000</td>\n",
              "      <td>1.000000</td>\n",
              "      <td>8.747247e+08</td>\n",
              "    </tr>\n",
              "    <tr>\n",
              "      <th>25%</th>\n",
              "      <td>254.00000</td>\n",
              "      <td>175.000000</td>\n",
              "      <td>3.000000</td>\n",
              "      <td>8.794487e+08</td>\n",
              "    </tr>\n",
              "    <tr>\n",
              "      <th>50%</th>\n",
              "      <td>447.00000</td>\n",
              "      <td>322.000000</td>\n",
              "      <td>4.000000</td>\n",
              "      <td>8.828269e+08</td>\n",
              "    </tr>\n",
              "    <tr>\n",
              "      <th>75%</th>\n",
              "      <td>682.00000</td>\n",
              "      <td>631.000000</td>\n",
              "      <td>4.000000</td>\n",
              "      <td>8.882600e+08</td>\n",
              "    </tr>\n",
              "    <tr>\n",
              "      <th>max</th>\n",
              "      <td>943.00000</td>\n",
              "      <td>1682.000000</td>\n",
              "      <td>5.000000</td>\n",
              "      <td>8.932866e+08</td>\n",
              "    </tr>\n",
              "  </tbody>\n",
              "</table>\n",
              "</div>"
            ],
            "text/plain": [
              "            user id       movie id         rating     timestamp\n",
              "count  100000.00000  100000.000000  100000.000000  1.000000e+05\n",
              "mean      462.48475     425.530130       3.529860  8.835289e+08\n",
              "std       266.61442     330.798356       1.125674  5.343856e+06\n",
              "min         1.00000       1.000000       1.000000  8.747247e+08\n",
              "25%       254.00000     175.000000       3.000000  8.794487e+08\n",
              "50%       447.00000     322.000000       4.000000  8.828269e+08\n",
              "75%       682.00000     631.000000       4.000000  8.882600e+08\n",
              "max       943.00000    1682.000000       5.000000  8.932866e+08"
            ]
          },
          "metadata": {
            "tags": []
          },
          "execution_count": 22
        }
      ]
    },
    {
      "cell_type": "code",
      "metadata": {
        "id": "FBihErcpufeB"
      },
      "source": [
        ""
      ],
      "execution_count": null,
      "outputs": []
    },
    {
      "cell_type": "code",
      "metadata": {
        "id": "U7arCmv4phKk"
      },
      "source": [
        "#your code here"
      ],
      "execution_count": null,
      "outputs": []
    },
    {
      "cell_type": "markdown",
      "metadata": {
        "id": "E4Q_2K20phKk"
      },
      "source": [
        "**Observations:**\n",
        "\n"
      ]
    },
    {
      "cell_type": "markdown",
      "metadata": {
        "id": "UrfhAhq5phKl"
      },
      "source": [
        "### 4. Find the number of movies per genre using the item data - 2.5 marks"
      ]
    },
    {
      "cell_type": "code",
      "metadata": {
        "id": "7TqzWxyiphKl"
      },
      "source": [
        "#your code here"
      ],
      "execution_count": null,
      "outputs": []
    },
    {
      "cell_type": "markdown",
      "metadata": {
        "id": "eDYr-nX5phKl"
      },
      "source": [
        "**Insights:**\n",
        "\n"
      ]
    },
    {
      "cell_type": "markdown",
      "metadata": {
        "id": "tmP37DX8phKm"
      },
      "source": [
        "### 5. Drop the movie where the genre is unknown - 2.5 marks"
      ]
    },
    {
      "cell_type": "code",
      "metadata": {
        "id": "Q__VkKtOphKm"
      },
      "source": [
        "#your code here"
      ],
      "execution_count": null,
      "outputs": []
    },
    {
      "cell_type": "markdown",
      "metadata": {
        "id": "LVV7qDBAphKm"
      },
      "source": [
        "**Insights:**\n"
      ]
    },
    {
      "cell_type": "markdown",
      "metadata": {
        "id": "MWn-2kVgphKm"
      },
      "source": [
        "### 6. Find the movies that have more than one genre - 5 marks\n",
        "\n",
        "hint: use sum on the axis = 1\n",
        "\n",
        "Display movie name, number of genres for the movie in dataframe\n",
        "\n",
        "and also print(total number of movies which have more than one genres)"
      ]
    },
    {
      "cell_type": "code",
      "metadata": {
        "id": "ElwwTwCZphKn"
      },
      "source": [
        "#your code here"
      ],
      "execution_count": null,
      "outputs": []
    },
    {
      "cell_type": "markdown",
      "metadata": {
        "id": "0Tz90XFuphKn"
      },
      "source": [
        "**Insights:**\n",
        "\n"
      ]
    },
    {
      "cell_type": "markdown",
      "metadata": {
        "id": "2K3EmQPmphKn"
      },
      "source": [
        "### 7. Univariate plots of columns: 'rating', 'Age', 'release year', 'Gender' and 'Occupation' - 10 marks\n",
        "\n",
        "*HINT: Use distplot for age and countplot for release year, ratings, *\n",
        "\n",
        "*HINT: Please refer to the below snippet to understand how to get to release year from release date. You can use str.split() as depicted below or you could convert it to pandas datetime format and extract year (.dt.year)*"
      ]
    },
    {
      "cell_type": "code",
      "metadata": {
        "id": "wxpNKXNRphKn",
        "outputId": "cf7b148f-1e0b-4f18-c157-b2179daf334f"
      },
      "source": [
        "a = 'My*cat*is*brown'\n",
        "print(a.split('*')[3])\n",
        "\n",
        "#similarly, the release year needs to be taken out from release date\n",
        "\n",
        "#also you can simply slice existing string to get the desired data, if we want to take out the colour of the cat\n",
        "\n",
        "print(a[10:])\n",
        "print(a[-5:])"
      ],
      "execution_count": null,
      "outputs": [
        {
          "output_type": "stream",
          "text": [
            "brown\n",
            "brown\n",
            "brown\n"
          ],
          "name": "stdout"
        }
      ]
    },
    {
      "cell_type": "code",
      "metadata": {
        "id": "GDldQPfuphKo"
      },
      "source": [
        "#your code here"
      ],
      "execution_count": null,
      "outputs": []
    },
    {
      "cell_type": "markdown",
      "metadata": {
        "id": "DfGna6j9phKp"
      },
      "source": [
        "### 8. Visualize how popularity of genres has changed over the years - 10 marks\n",
        "\n",
        "Note that you need to use the **percent of number of releases in a year** as a parameter of popularity of a genre\n",
        "\n",
        "Hint 1: You need to reach to a data frame where the release year is the index and the genre is the column names (one cell shows the number of release in a year in one genre) or vice versa. (Drop unnecessary column if there are any)\n",
        "\n",
        "Hint 2: Find the total number of movies release in a year(use item dataset to get count of movies released in a particular year, store that value in a new column as 'total'). Now divide the value of each genre in that year by total to get percentage number of release in a particular year.\n",
        "`(df.div(df['total'], axis= 0) * 100)`\n",
        "\n",
        "Once that is achieved, you can either use univariate plots or can use the heatmap to visualise all the changes over the years \n",
        "in one go. \n",
        "\n",
        "Hint 3: Use groupby on the relevant column and use sum() on the same to find out the number of releases in a year/genre."
      ]
    },
    {
      "cell_type": "code",
      "metadata": {
        "id": "RG6MEEWWphKp"
      },
      "source": [
        "#your code here"
      ],
      "execution_count": null,
      "outputs": []
    },
    {
      "cell_type": "markdown",
      "metadata": {
        "id": "fUzw7e1MphKp"
      },
      "source": [
        "**Insights:**\n",
        "\n"
      ]
    },
    {
      "cell_type": "markdown",
      "metadata": {
        "id": "klZ4NVtSphKp"
      },
      "source": [
        "### 9. Find the top 25 movies in terms of average ratings for movies that have been rated more than 100 times - 10 marks\n",
        "\n",
        "Hints : \n",
        "\n",
        "1. Find the count of ratings and average ratings for every movie.\n",
        "2. Slice the movies which have ratings more than 100.\n",
        "3. Sort values according to average rating such that movie which highest rating is on top.\n",
        "4. Select top 25 movies.\n",
        "5. You will have to use the .merge() function to get the movie titles.\n",
        "\n",
        "Note: This question will need you to research about groupby and apply your findings. You can find more on groupby on https://realpython.com/pandas-groupby/."
      ]
    },
    {
      "cell_type": "code",
      "metadata": {
        "id": "RFtsse1BphKp"
      },
      "source": [
        "#your code here"
      ],
      "execution_count": null,
      "outputs": []
    },
    {
      "cell_type": "markdown",
      "metadata": {
        "id": "Yj9GrQqJphKq"
      },
      "source": [
        "### 10. Check for the validity of the below statements with respect to the data provided - 10 marks\n",
        "\n",
        "* Men watch more drama than women\n",
        "* Women watch more Sci-Fi than men\n",
        "* Men watch more Romance than women\n",
        "\n",
        "**compare the percentages**\n",
        "\n",
        "**Please pay attention to what should be the denominator while calculating percentages**"
      ]
    },
    {
      "cell_type": "markdown",
      "metadata": {
        "id": "qMNGvhF6phKq"
      },
      "source": [
        "1. Merge all the datasets\n",
        "\n",
        "2. There is no need to conduct statistical tests around this. Just **compare the percentages** and comment on the validity of the above statements.\n",
        "\n",
        "3. you might want ot use the .sum(), .div() function here.\n",
        "\n",
        "4. Use number of ratings to validate the numbers. For example, if out of 4000 ratings received by women, 3000 are for drama, we will assume that 75% of the women watch drama."
      ]
    },
    {
      "cell_type": "code",
      "metadata": {
        "id": "Nzdqr9pSphKq"
      },
      "source": [
        "#your code here"
      ],
      "execution_count": null,
      "outputs": []
    },
    {
      "cell_type": "markdown",
      "metadata": {
        "id": "D4bbGzwcphKr"
      },
      "source": [
        "**Conclusion:**\n",
        "    \n"
      ]
    }
  ]
}